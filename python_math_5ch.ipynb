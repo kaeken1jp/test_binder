{
  "nbformat": 4,
  "nbformat_minor": 0,
  "metadata": {
    "colab": {
      "name": "python_math_5章.ipynb",
      "version": "0.3.2",
      "views": {},
      "default_view": {},
      "provenance": [],
      "collapsed_sections": []
    }
  },
  "cells": [
    {
      "metadata": {
        "id": "xL7GTBr2j-z3",
        "colab_type": "code",
        "colab": {
          "autoexec": {
            "startup": false,
            "wait_interval": 0
          },
          "output_extras": [
            {
              "item_id": 1
            }
          ],
          "base_uri": "https://localhost:8080/",
          "height": 34
        },
        "outputId": "a2c5e020-6052-4469-e756-8475da3fac78",
        "executionInfo": {
          "status": "ok",
          "timestamp": 1512731312749,
          "user_tz": -540,
          "elapsed": 1765,
          "user": {
            "displayName": "Kenji Kaeshima",
            "photoUrl": "https://lh3.googleusercontent.com/a/default-user=s128",
            "userId": "116623081577924114327"
          }
        }
      },
      "source": [
        "from sympy import FiniteSet\n",
        "s = FiniteSet(2,4,6)\n",
        "print(s)"
      ],
      "cell_type": "code",
      "execution_count": 1,
      "outputs": [
        {
          "output_type": "stream",
          "text": [
            "{2, 4, 6}\n"
          ],
          "name": "stdout"
        }
      ]
    },
    {
      "metadata": {
        "id": "Kp4uV2Guk9ri",
        "colab_type": "code",
        "colab": {
          "autoexec": {
            "startup": false,
            "wait_interval": 0
          },
          "output_extras": [
            {
              "item_id": 1
            }
          ],
          "base_uri": "https://localhost:8080/",
          "height": 51
        },
        "outputId": "ea8374c6-d5ae-410e-e50a-aaff2bb44f19",
        "executionInfo": {
          "status": "ok",
          "timestamp": 1512731315497,
          "user_tz": -540,
          "elapsed": 502,
          "user": {
            "displayName": "Kenji Kaeshima",
            "photoUrl": "https://lh3.googleusercontent.com/a/default-user=s128",
            "userId": "116623081577924114327"
          }
        }
      },
      "source": [
        "from sympy import FiniteSet\n",
        "from fractions import Fraction\n",
        "s = FiniteSet(1,1.5, Fraction(1,5)) # さまざな数を要素にもてる\n",
        "print(s)\n",
        "print(len(s)) # 集合の濃度(cardinality)=要素の個数は、len()で求める"
      ],
      "cell_type": "code",
      "execution_count": 2,
      "outputs": [
        {
          "output_type": "stream",
          "text": [
            "{1/5, 1, 1.5}\n",
            "3\n"
          ],
          "name": "stdout"
        }
      ]
    },
    {
      "metadata": {
        "id": "iBpuWM01lMI1",
        "colab_type": "code",
        "colab": {
          "autoexec": {
            "startup": false,
            "wait_interval": 0
          },
          "output_extras": [
            {
              "item_id": 1
            }
          ],
          "base_uri": "https://localhost:8080/",
          "height": 51
        },
        "outputId": "0ea61587-17e8-4cc2-987d-d0a91dc5480b",
        "executionInfo": {
          "status": "ok",
          "timestamp": 1512731316534,
          "user_tz": -540,
          "elapsed": 611,
          "user": {
            "displayName": "Kenji Kaeshima",
            "photoUrl": "https://lh3.googleusercontent.com/a/default-user=s128",
            "userId": "116623081577924114327"
          }
        }
      },
      "source": [
        "#5.1.1.1 要素判定\n",
        "\n",
        "print(1 in s)\n",
        "print(4 in s)"
      ],
      "cell_type": "code",
      "execution_count": 3,
      "outputs": [
        {
          "output_type": "stream",
          "text": [
            "True\n",
            "False\n"
          ],
          "name": "stdout"
        }
      ]
    },
    {
      "metadata": {
        "id": "pMKDb9KClq_e",
        "colab_type": "code",
        "colab": {
          "autoexec": {
            "startup": false,
            "wait_interval": 0
          },
          "output_extras": [
            {
              "item_id": 1
            }
          ],
          "base_uri": "https://localhost:8080/",
          "height": 34
        },
        "outputId": "5eec5284-a68c-46ef-fc2f-4a636b108bec",
        "executionInfo": {
          "status": "ok",
          "timestamp": 1512731317498,
          "user_tz": -540,
          "elapsed": 603,
          "user": {
            "displayName": "Kenji Kaeshima",
            "photoUrl": "https://lh3.googleusercontent.com/a/default-user=s128",
            "userId": "116623081577924114327"
          }
        }
      },
      "source": [
        "#5.1.1.2 空集合を作る\n",
        "\n",
        "s = FiniteSet()\n",
        "s\n"
      ],
      "cell_type": "code",
      "execution_count": 4,
      "outputs": [
        {
          "output_type": "execute_result",
          "data": {
            "text/plain": [
              "EmptySet()"
            ]
          },
          "metadata": {
            "tags": []
          },
          "execution_count": 4
        }
      ]
    },
    {
      "metadata": {
        "id": "ge0AKW5ll-5f",
        "colab_type": "code",
        "colab": {
          "autoexec": {
            "startup": false,
            "wait_interval": 0
          },
          "output_extras": [
            {
              "item_id": 1
            }
          ],
          "base_uri": "https://localhost:8080/",
          "height": 34
        },
        "outputId": "c2fd61e9-d643-4b80-dd1f-2a19fd389aa0",
        "executionInfo": {
          "status": "ok",
          "timestamp": 1512731318680,
          "user_tz": -540,
          "elapsed": 827,
          "user": {
            "displayName": "Kenji Kaeshima",
            "photoUrl": "https://lh3.googleusercontent.com/a/default-user=s128",
            "userId": "116623081577924114327"
          }
        }
      },
      "source": [
        "#5.1.1.3 リストやタプルから集合を作る\n",
        "\n",
        "members = [1,2,3]\n",
        "s = FiniteSet(*members) #*:可変長引数\n",
        "s"
      ],
      "cell_type": "code",
      "execution_count": 5,
      "outputs": [
        {
          "output_type": "execute_result",
          "data": {
            "text/plain": [
              "{1, 2, 3}"
            ]
          },
          "metadata": {
            "tags": []
          },
          "execution_count": 5
        }
      ]
    },
    {
      "metadata": {
        "id": "RYh7omU9qLSw",
        "colab_type": "code",
        "colab": {
          "autoexec": {
            "startup": false,
            "wait_interval": 0
          },
          "output_extras": [
            {
              "item_id": 1
            }
          ],
          "base_uri": "https://localhost:8080/",
          "height": 34
        },
        "outputId": "a8de8a3a-9836-417c-835d-0a36c4a3826c",
        "executionInfo": {
          "status": "ok",
          "timestamp": 1512731320219,
          "user_tz": -540,
          "elapsed": 779,
          "user": {
            "displayName": "Kenji Kaeshima",
            "photoUrl": "https://lh3.googleusercontent.com/a/default-user=s128",
            "userId": "116623081577924114327"
          }
        }
      },
      "source": [
        "#5.1.1.4 集合要素の重複と順序\n",
        "\n",
        "from sympy import FiniteSet\n",
        "members = [1,2,3,2]\n",
        "FiniteSet(*members)\n"
      ],
      "cell_type": "code",
      "execution_count": 6,
      "outputs": [
        {
          "output_type": "execute_result",
          "data": {
            "text/plain": [
              "{1, 2, 3}"
            ]
          },
          "metadata": {
            "tags": []
          },
          "execution_count": 6
        }
      ]
    },
    {
      "metadata": {
        "id": "ix_cE0ZhrVR6",
        "colab_type": "code",
        "colab": {
          "autoexec": {
            "startup": false,
            "wait_interval": 0
          },
          "output_extras": [
            {
              "item_id": 1
            }
          ],
          "base_uri": "https://localhost:8080/",
          "height": 68
        },
        "outputId": "787f884d-4e60-4590-d888-7834f2d1a4ce",
        "executionInfo": {
          "status": "ok",
          "timestamp": 1512731321240,
          "user_tz": -540,
          "elapsed": 542,
          "user": {
            "displayName": "Kenji Kaeshima",
            "photoUrl": "https://lh3.googleusercontent.com/a/default-user=s128",
            "userId": "116623081577924114327"
          }
        }
      },
      "source": [
        "from sympy import FiniteSet\n",
        "s = FiniteSet(1,2,3)\n",
        "for member in s:\n",
        "  print(member)"
      ],
      "cell_type": "code",
      "execution_count": 7,
      "outputs": [
        {
          "output_type": "stream",
          "text": [
            "1\n",
            "2\n",
            "3\n"
          ],
          "name": "stdout"
        }
      ]
    },
    {
      "metadata": {
        "id": "6Jqp6aQGrnIj",
        "colab_type": "code",
        "colab": {
          "autoexec": {
            "startup": false,
            "wait_interval": 0
          },
          "output_extras": [
            {
              "item_id": 1
            }
          ],
          "base_uri": "https://localhost:8080/",
          "height": 34
        },
        "outputId": "263703a0-ec20-4456-ac07-d6d23fcfd5c5",
        "executionInfo": {
          "status": "ok",
          "timestamp": 1512731322233,
          "user_tz": -540,
          "elapsed": 503,
          "user": {
            "displayName": "Kenji Kaeshima",
            "photoUrl": "https://lh3.googleusercontent.com/a/default-user=s128",
            "userId": "116623081577924114327"
          }
        }
      },
      "source": [
        "from sympy import FiniteSet\n",
        "s = FiniteSet(3,4,5)\n",
        "t = FiniteSet(3,4,5)\n",
        "s == t\n"
      ],
      "cell_type": "code",
      "execution_count": 8,
      "outputs": [
        {
          "output_type": "execute_result",
          "data": {
            "text/plain": [
              "True"
            ]
          },
          "metadata": {
            "tags": []
          },
          "execution_count": 8
        }
      ]
    },
    {
      "metadata": {
        "id": "9z_7F4KtrxLo",
        "colab_type": "code",
        "colab": {
          "autoexec": {
            "startup": false,
            "wait_interval": 0
          },
          "output_extras": [
            {
              "item_id": 1
            }
          ],
          "base_uri": "https://localhost:8080/",
          "height": 357
        },
        "outputId": "66b714bf-fefa-40a6-c537-27137922663c",
        "executionInfo": {
          "status": "ok",
          "timestamp": 1512731323138,
          "user_tz": -540,
          "elapsed": 568,
          "user": {
            "displayName": "Kenji Kaeshima",
            "photoUrl": "https://lh3.googleusercontent.com/a/default-user=s128",
            "userId": "116623081577924114327"
          }
        }
      },
      "source": [
        "#5.1.2 部分集合、上位集合、べき集合\n",
        "\n",
        "s = FiniteSet(1)\n",
        "t = FiniteSet(1,2)\n",
        "print('subset')\n",
        "print(s.is_subset(t))\n",
        "print(t.is_subset(s))\n",
        "print(s.is_subset(s))\n",
        "print(t.is_subset(t))\n",
        "print('superset')\n",
        "print(s.is_superset(t))\n",
        "print(t.is_superset(s))\n",
        "print(s.is_superset(s))\n",
        "print(t.is_superset(t))\n",
        "print('proper_subset')\n",
        "print(s.is_proper_subset(t))\n",
        "print(t.is_proper_subset(s))\n",
        "print(s.is_proper_subset(s))\n",
        "print(t.is_proper_subset(t))\n",
        "print('proper_superset')\n",
        "print(s.is_proper_superset(t))\n",
        "print(t.is_proper_superset(s))\n",
        "print(s.is_proper_superset(s))\n",
        "print(t.is_proper_superset(t))\n"
      ],
      "cell_type": "code",
      "execution_count": 9,
      "outputs": [
        {
          "output_type": "stream",
          "text": [
            "subset\n",
            "True\n",
            "False\n",
            "True\n",
            "True\n",
            "superset\n",
            "False\n",
            "True\n",
            "True\n",
            "True\n",
            "proper_subset\n",
            "True\n",
            "False\n",
            "False\n",
            "False\n",
            "proper_superset\n",
            "False\n",
            "True\n",
            "False\n",
            "False\n"
          ],
          "name": "stdout"
        }
      ]
    },
    {
      "metadata": {
        "id": "lt5WpBfQuEUb",
        "colab_type": "code",
        "colab": {
          "autoexec": {
            "startup": false,
            "wait_interval": 0
          },
          "output_extras": [
            {
              "item_id": 1
            }
          ],
          "base_uri": "https://localhost:8080/",
          "height": 51
        },
        "outputId": "1984ad58-6feb-4941-fde4-44deb3e89c61",
        "executionInfo": {
          "status": "ok",
          "timestamp": 1512731324231,
          "user_tz": -540,
          "elapsed": 608,
          "user": {
            "displayName": "Kenji Kaeshima",
            "photoUrl": "https://lh3.googleusercontent.com/a/default-user=s128",
            "userId": "116623081577924114327"
          }
        }
      },
      "source": [
        "s = FiniteSet(1,2,3)\n",
        "ps = s.powerset()\n",
        "print(ps)\n",
        "print(len(ps))"
      ],
      "cell_type": "code",
      "execution_count": 10,
      "outputs": [
        {
          "output_type": "stream",
          "text": [
            "{EmptySet(), {1}, {2}, {3}, {1, 2}, {1, 3}, {2, 3}, {1, 2, 3}}\n",
            "8\n"
          ],
          "name": "stdout"
        }
      ]
    },
    {
      "metadata": {
        "id": "Ub-ds3Xlva0c",
        "colab_type": "code",
        "colab": {
          "autoexec": {
            "startup": false,
            "wait_interval": 0
          },
          "output_extras": [
            {
              "item_id": 1
            }
          ],
          "base_uri": "https://localhost:8080/",
          "height": 340
        },
        "outputId": "f67ace51-0f6d-4435-944e-a009b9c7129c",
        "executionInfo": {
          "status": "ok",
          "timestamp": 1512731325342,
          "user_tz": -540,
          "elapsed": 644,
          "user": {
            "displayName": "Kenji Kaeshima",
            "photoUrl": "https://lh3.googleusercontent.com/a/default-user=s128",
            "userId": "116623081577924114327"
          }
        }
      },
      "source": [
        "from sympy import FiniteSet\n",
        "s = FiniteSet(1,3)\n",
        "t = FiniteSet(3,6)\n",
        "print('union')\n",
        "print(s.union(t))\n",
        "print('intersect')\n",
        "print(s.intersect(t))\n",
        "print('Cartesian product')\n",
        "print(s*t)\n",
        "for elem in s*t:\n",
        "  print(elem)\n",
        "print(s**3)\n",
        "for elem in s**3:\n",
        "  print(elem)"
      ],
      "cell_type": "code",
      "execution_count": 11,
      "outputs": [
        {
          "output_type": "stream",
          "text": [
            "union\n",
            "{1, 3, 6}\n",
            "intersect\n",
            "{3}\n",
            "Cartesian product\n",
            "{1, 3} x {3, 6}\n",
            "(1, 3)\n",
            "(1, 6)\n",
            "(3, 3)\n",
            "(3, 6)\n",
            "{1, 3} x {1, 3} x {1, 3}\n",
            "(1, 1, 1)\n",
            "(1, 1, 3)\n",
            "(1, 3, 1)\n",
            "(1, 3, 3)\n",
            "(3, 1, 1)\n",
            "(3, 1, 3)\n",
            "(3, 3, 1)\n",
            "(3, 3, 3)\n"
          ],
          "name": "stdout"
        }
      ]
    }
  ]
}